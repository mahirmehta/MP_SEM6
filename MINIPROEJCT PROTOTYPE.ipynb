{
 "cells": [
  {
   "cell_type": "code",
   "execution_count": 85,
   "id": "199c9ba2",
   "metadata": {},
   "outputs": [],
   "source": [
    "from alpha_vantage.timeseries import TimeSeries\n",
    "import pandas as pd\n",
    "import numpy as np\n",
    "from statsmodels.tsa.arima_model import ARIMA\n",
    "from sklearn.metrics import mean_squared_error\n",
    "import matplotlib.pyplot as plt\n",
    "plt.style.use('ggplot')\n",
    "import math, random\n",
    "from datetime import datetime\n",
    "import datetime as dt\n",
    "import yfinance as yf\n",
    "import tweepy\n",
    "import preprocessor as p\n",
    "import re\n",
    "from sklearn.linear_model import LinearRegression\n",
    "from textblob import TextBlob\n",
    "import nltk\n",
    "\n",
    "import constants as ct\n",
    "import Tweet as tweet"
   ]
  },
  {
   "cell_type": "code",
   "execution_count": 86,
   "id": "8d714c69",
   "metadata": {},
   "outputs": [],
   "source": [
    "  def get_historical(quote):\n",
    "        end = datetime.now()\n",
    "        start = datetime(end.year-2,end.month,end.day)\n",
    "        data = yf.download(quote, start=start, end=end)\n",
    "        df = pd.DataFrame(data=data)\n",
    "        df.to_csv(''+quote+'.csv')\n",
    "        if(df.empty):\n",
    "            ts = TimeSeries(key='N6A6QT6IBFJOPJ70',output_format='pandas')\n",
    "            data, meta_data = ts.get_daily_adjusted(symbol='NSE:'+quote, outputsize='full')\n",
    "            #Format df\n",
    "            #Last 2 yrs rows => 502, in ascending order => ::-1\n",
    "            data=data.head(503).iloc[::-1]\n",
    "            data=data.reset_index()\n",
    "            #Keep Required cols only\n",
    "            df=pd.DataFrame()\n",
    "            df['Date']=data['date']\n",
    "            df['Open']=data['1. open']\n",
    "            df['High']=data['2. high']\n",
    "            df['Low']=data['3. low']\n",
    "            df['Close']=data['4. close']\n",
    "            df['Adj Close']=data['5. adjusted close']\n",
    "            df['Volume']=data['6. volume']\n",
    "            df.to_csv(''+quote+'.csv',index=False)\n",
    "        return"
   ]
  },
  {
   "cell_type": "code",
   "execution_count": 87,
   "id": "590a633b",
   "metadata": {},
   "outputs": [
    {
     "name": "stdout",
     "output_type": "stream",
     "text": [
      "[*********************100%***********************]  1 of 1 completed\n"
     ]
    }
   ],
   "source": [
    "get_historical(\"AAPL\")"
   ]
  },
  {
   "cell_type": "code",
   "execution_count": 88,
   "id": "bbe5075d",
   "metadata": {},
   "outputs": [],
   "source": [
    "def retrieving_tweets_polarity(symbol):\n",
    "    stock_ticker_map = pd.read_csv('Yahoo-Finance-Ticker-Symbols.csv')\n",
    "    stock_full_form = stock_ticker_map[stock_ticker_map['Ticker']==symbol]\n",
    "    symbol = stock_full_form['Name'].to_list()[0][0:12]\n",
    "\n",
    "    auth = tweepy.OAuthHandler(ct.consumer_key, ct.consumer_secret)\n",
    "    auth.set_access_token(ct.access_token, ct.access_token_secret)\n",
    "    user = tweepy.API(auth)\n",
    "        \n",
    "    tweets = tweepy.Cursor(user.search_users, q=symbol, tweet_mode='extended', lang='en',exclude_replies=True).items(ct.num_of_tweets)\n",
    "        \n",
    "    tweet_list = [] #List of tweets alongside polarity\n",
    "    global_polarity = 0 #Polarity of all tweets === Sum of polarities of individual tweets\n",
    "    tw_list=[] #List of tweets only => to be displayed on web page\n",
    "    #Count Positive, Negative to plot pie chart\n",
    "    pos=0 #Num of pos tweets\n",
    "    neg=0 #Num of negative tweets\n",
    "    print(vars(tweets))"
   ]
  },
  {
   "cell_type": "code",
   "execution_count": 89,
   "id": "7d49a595",
   "metadata": {},
   "outputs": [
    {
     "name": "stdout",
     "output_type": "stream",
     "text": [
      "{'page_iterator': <tweepy.cursor.PageIterator object at 0x000002260316AD10>, 'limit': 300, 'current_page': None, 'page_index': -1, 'num_tweets': 0}\n"
     ]
    }
   ],
   "source": [
    "retrieving_tweets_polarity(\"TSLA\")"
   ]
  },
  {
   "cell_type": "code",
   "execution_count": 90,
   "id": "3ab5eb45",
   "metadata": {},
   "outputs": [
    {
     "ename": "Forbidden",
     "evalue": "403 Forbidden\n453 - You currently have Essential access which includes access to Twitter API v2 endpoints only. If you need access to this endpoint, you’ll need to apply for Elevated access via the Developer Portal. You can learn more here: https://developer.twitter.com/en/docs/twitter-api/getting-started/about-twitter-api#v2-access-leve",
     "output_type": "error",
     "traceback": [
      "\u001b[1;31m---------------------------------------------------------------------------\u001b[0m",
      "\u001b[1;31mForbidden\u001b[0m                                 Traceback (most recent call last)",
      "Cell \u001b[1;32mIn[90], line 46\u001b[0m\n\u001b[0;32m     41\u001b[0m \u001b[38;5;66;03m# Driver code\u001b[39;00m\n\u001b[0;32m     42\u001b[0m \u001b[38;5;28;01mif\u001b[39;00m \u001b[38;5;18m__name__\u001b[39m \u001b[38;5;241m==\u001b[39m \u001b[38;5;124m'\u001b[39m\u001b[38;5;124m__main__\u001b[39m\u001b[38;5;124m'\u001b[39m:\n\u001b[0;32m     43\u001b[0m \n\u001b[0;32m     44\u001b[0m \t\u001b[38;5;66;03m# Here goes the twitter handle for the user\u001b[39;00m\n\u001b[0;32m     45\u001b[0m \t\u001b[38;5;66;03m# whose tweets are to be extracted.\u001b[39;00m\n\u001b[1;32m---> 46\u001b[0m \t\u001b[43mget_tweets\u001b[49m\u001b[43m(\u001b[49m\u001b[38;5;124;43m\"\u001b[39;49m\u001b[38;5;124;43mTSLA\u001b[39;49m\u001b[38;5;124;43m\"\u001b[39;49m\u001b[43m)\u001b[49m\n",
      "Cell \u001b[1;32mIn[90], line 24\u001b[0m, in \u001b[0;36mget_tweets\u001b[1;34m(username)\u001b[0m\n\u001b[0;32m     22\u001b[0m \u001b[38;5;66;03m# 200 tweets to be extracted\u001b[39;00m\n\u001b[0;32m     23\u001b[0m number_of_tweets\u001b[38;5;241m=\u001b[39m\u001b[38;5;241m200\u001b[39m\n\u001b[1;32m---> 24\u001b[0m tweets \u001b[38;5;241m=\u001b[39m \u001b[43mapi\u001b[49m\u001b[38;5;241;43m.\u001b[39;49m\u001b[43muser_timeline\u001b[49m\u001b[43m(\u001b[49m\u001b[43mscreen_name\u001b[49m\u001b[38;5;241;43m=\u001b[39;49m\u001b[43musername\u001b[49m\u001b[43m)\u001b[49m\n\u001b[0;32m     26\u001b[0m \u001b[38;5;66;03m# Empty Array\u001b[39;00m\n\u001b[0;32m     27\u001b[0m tmp\u001b[38;5;241m=\u001b[39m[]\n",
      "File \u001b[1;32m~\\AppData\\Local\\Programs\\Python\\Python310\\lib\\site-packages\\tweepy\\api.py:33\u001b[0m, in \u001b[0;36mpagination.<locals>.decorator.<locals>.wrapper\u001b[1;34m(*args, **kwargs)\u001b[0m\n\u001b[0;32m     31\u001b[0m \u001b[38;5;129m@functools\u001b[39m\u001b[38;5;241m.\u001b[39mwraps(method)\n\u001b[0;32m     32\u001b[0m \u001b[38;5;28;01mdef\u001b[39;00m \u001b[38;5;21mwrapper\u001b[39m(\u001b[38;5;241m*\u001b[39margs, \u001b[38;5;241m*\u001b[39m\u001b[38;5;241m*\u001b[39mkwargs):\n\u001b[1;32m---> 33\u001b[0m     \u001b[38;5;28;01mreturn\u001b[39;00m method(\u001b[38;5;241m*\u001b[39margs, \u001b[38;5;241m*\u001b[39m\u001b[38;5;241m*\u001b[39mkwargs)\n",
      "File \u001b[1;32m~\\AppData\\Local\\Programs\\Python\\Python310\\lib\\site-packages\\tweepy\\api.py:46\u001b[0m, in \u001b[0;36mpayload.<locals>.decorator.<locals>.wrapper\u001b[1;34m(*args, **kwargs)\u001b[0m\n\u001b[0;32m     44\u001b[0m kwargs[\u001b[38;5;124m'\u001b[39m\u001b[38;5;124mpayload_list\u001b[39m\u001b[38;5;124m'\u001b[39m] \u001b[38;5;241m=\u001b[39m payload_list\n\u001b[0;32m     45\u001b[0m kwargs[\u001b[38;5;124m'\u001b[39m\u001b[38;5;124mpayload_type\u001b[39m\u001b[38;5;124m'\u001b[39m] \u001b[38;5;241m=\u001b[39m payload_type\n\u001b[1;32m---> 46\u001b[0m \u001b[38;5;28;01mreturn\u001b[39;00m method(\u001b[38;5;241m*\u001b[39margs, \u001b[38;5;241m*\u001b[39m\u001b[38;5;241m*\u001b[39mkwargs)\n",
      "File \u001b[1;32m~\\AppData\\Local\\Programs\\Python\\Python310\\lib\\site-packages\\tweepy\\api.py:577\u001b[0m, in \u001b[0;36mAPI.user_timeline\u001b[1;34m(self, **kwargs)\u001b[0m\n\u001b[0;32m    536\u001b[0m \u001b[38;5;129m@pagination\u001b[39m(mode\u001b[38;5;241m=\u001b[39m\u001b[38;5;124m'\u001b[39m\u001b[38;5;124mid\u001b[39m\u001b[38;5;124m'\u001b[39m)\n\u001b[0;32m    537\u001b[0m \u001b[38;5;129m@payload\u001b[39m(\u001b[38;5;124m'\u001b[39m\u001b[38;5;124mstatus\u001b[39m\u001b[38;5;124m'\u001b[39m, \u001b[38;5;28mlist\u001b[39m\u001b[38;5;241m=\u001b[39m\u001b[38;5;28;01mTrue\u001b[39;00m)\n\u001b[0;32m    538\u001b[0m \u001b[38;5;28;01mdef\u001b[39;00m \u001b[38;5;21muser_timeline\u001b[39m(\u001b[38;5;28mself\u001b[39m, \u001b[38;5;241m*\u001b[39m\u001b[38;5;241m*\u001b[39mkwargs):\n\u001b[0;32m    539\u001b[0m \u001b[38;5;250m    \u001b[39m\u001b[38;5;124;03m\"\"\"user_timeline(*, user_id, screen_name, since_id, count, max_id, \\\u001b[39;00m\n\u001b[0;32m    540\u001b[0m \u001b[38;5;124;03m                     trim_user, exclude_replies, include_rts)\u001b[39;00m\n\u001b[0;32m    541\u001b[0m \n\u001b[1;32m   (...)\u001b[0m\n\u001b[0;32m    575\u001b[0m \u001b[38;5;124;03m    https://developer.twitter.com/en/docs/twitter-api/v1/tweets/timelines/api-reference/get-statuses-user_timeline\u001b[39;00m\n\u001b[0;32m    576\u001b[0m \u001b[38;5;124;03m    \"\"\"\u001b[39;00m\n\u001b[1;32m--> 577\u001b[0m     \u001b[38;5;28;01mreturn\u001b[39;00m \u001b[38;5;28mself\u001b[39m\u001b[38;5;241m.\u001b[39mrequest(\n\u001b[0;32m    578\u001b[0m         \u001b[38;5;124m'\u001b[39m\u001b[38;5;124mGET\u001b[39m\u001b[38;5;124m'\u001b[39m, \u001b[38;5;124m'\u001b[39m\u001b[38;5;124mstatuses/user_timeline\u001b[39m\u001b[38;5;124m'\u001b[39m, endpoint_parameters\u001b[38;5;241m=\u001b[39m(\n\u001b[0;32m    579\u001b[0m             \u001b[38;5;124m'\u001b[39m\u001b[38;5;124muser_id\u001b[39m\u001b[38;5;124m'\u001b[39m, \u001b[38;5;124m'\u001b[39m\u001b[38;5;124mscreen_name\u001b[39m\u001b[38;5;124m'\u001b[39m, \u001b[38;5;124m'\u001b[39m\u001b[38;5;124msince_id\u001b[39m\u001b[38;5;124m'\u001b[39m, \u001b[38;5;124m'\u001b[39m\u001b[38;5;124mcount\u001b[39m\u001b[38;5;124m'\u001b[39m, \u001b[38;5;124m'\u001b[39m\u001b[38;5;124mmax_id\u001b[39m\u001b[38;5;124m'\u001b[39m,\n\u001b[0;32m    580\u001b[0m             \u001b[38;5;124m'\u001b[39m\u001b[38;5;124mtrim_user\u001b[39m\u001b[38;5;124m'\u001b[39m, \u001b[38;5;124m'\u001b[39m\u001b[38;5;124mexclude_replies\u001b[39m\u001b[38;5;124m'\u001b[39m, \u001b[38;5;124m'\u001b[39m\u001b[38;5;124minclude_rts\u001b[39m\u001b[38;5;124m'\u001b[39m\n\u001b[0;32m    581\u001b[0m         ), \u001b[38;5;241m*\u001b[39m\u001b[38;5;241m*\u001b[39mkwargs\n\u001b[0;32m    582\u001b[0m     )\n",
      "File \u001b[1;32m~\\AppData\\Local\\Programs\\Python\\Python310\\lib\\site-packages\\tweepy\\api.py:265\u001b[0m, in \u001b[0;36mAPI.request\u001b[1;34m(self, method, endpoint, endpoint_parameters, params, headers, json_payload, parser, payload_list, payload_type, post_data, files, require_auth, return_cursors, upload_api, use_cache, **kwargs)\u001b[0m\n\u001b[0;32m    263\u001b[0m     \u001b[38;5;28;01mraise\u001b[39;00m Unauthorized(resp)\n\u001b[0;32m    264\u001b[0m \u001b[38;5;28;01mif\u001b[39;00m resp\u001b[38;5;241m.\u001b[39mstatus_code \u001b[38;5;241m==\u001b[39m \u001b[38;5;241m403\u001b[39m:\n\u001b[1;32m--> 265\u001b[0m     \u001b[38;5;28;01mraise\u001b[39;00m Forbidden(resp)\n\u001b[0;32m    266\u001b[0m \u001b[38;5;28;01mif\u001b[39;00m resp\u001b[38;5;241m.\u001b[39mstatus_code \u001b[38;5;241m==\u001b[39m \u001b[38;5;241m404\u001b[39m:\n\u001b[0;32m    267\u001b[0m     \u001b[38;5;28;01mraise\u001b[39;00m NotFound(resp)\n",
      "\u001b[1;31mForbidden\u001b[0m: 403 Forbidden\n453 - You currently have Essential access which includes access to Twitter API v2 endpoints only. If you need access to this endpoint, you’ll need to apply for Elevated access via the Developer Portal. You can learn more here: https://developer.twitter.com/en/docs/twitter-api/getting-started/about-twitter-api#v2-access-leve"
     ]
    }
   ],
   "source": [
    "import tweepy\n",
    "\n",
    "# Fill the X's with the credentials obtained by\n",
    "# following the above mentioned procedure.\n",
    "consumer_key = \"kPDPSzWGry3dtHvmyayqgG1Es\"\n",
    "consumer_secret = \"XntDJ7kJuT7rNHsS1LHuVJXIpBsokWiNUK8ivxDQw1BxKgTPju\"\n",
    "access_key = \"1278974128721035265-S59VjeWGj2L1Y35VPPWeWhVKvHNO2W\"\n",
    "access_secret = \"ocbd0b8imLll9oXhFCqrMXA0WTI7L54MpDFJpRKLXaRc3\"\n",
    "\n",
    "# Function to extract tweets\n",
    "def get_tweets(username):\n",
    "\t\t\n",
    "\t\t# Authorization to consumer key and consumer secret\n",
    "\t\tauth = tweepy.OAuthHandler(consumer_key, consumer_secret)\n",
    "\n",
    "\t\t# Access to user's access key and access secret\n",
    "\t\tauth.set_access_token(access_key, access_secret)\n",
    "\n",
    "\t\t# Calling api\n",
    "\t\tapi = tweepy.API(auth)\n",
    "\n",
    "\t\t# 200 tweets to be extracted\n",
    "\t\tnumber_of_tweets=200\n",
    "\t\ttweets = api.user_timeline(screen_name=username)\n",
    "\n",
    "\t\t# Empty Array\n",
    "\t\ttmp=[]\n",
    "\n",
    "\t\t# create array of tweet information: username,\n",
    "\t\t# tweet id, date/time, text\n",
    "\t\ttweets_for_csv = [tweet.text for tweet in tweets] # CSV file created\n",
    "\t\tfor j in tweets_for_csv:\n",
    "\n",
    "\t\t\t# Appending tweets to the empty array tmp\n",
    "\t\t\ttmp.append(j)\n",
    "\n",
    "\t\t# Printing the tweets\n",
    "\t\tprint(tmp)\n",
    "\n",
    "\n",
    "# Driver code\n",
    "if __name__ == '__main__':\n",
    "\n",
    "\t# Here goes the twitter handle for the user\n",
    "\t# whose tweets are to be extracted.\n",
    "\tget_tweets(\"TSLA\")\n"
   ]
  },
  {
   "cell_type": "code",
   "execution_count": 93,
   "id": "1632aa58",
   "metadata": {},
   "outputs": [
    {
     "name": "stderr",
     "output_type": "stream",
     "text": [
      "C:\\Users\\soham\\AppData\\Local\\Temp\\ipykernel_18184\\305603488.py:15: DeprecatedFeatureWarning: content is deprecated, use rawContent instead\n",
      "  'Tweet': tweet.content\n"
     ]
    },
    {
     "name": "stdout",
     "output_type": "stream",
     "text": [
      "                         Date  User             Tweet\n",
      "0   2013-06-11 20:00:03+00:00  aapl  $438.71 (--0.18)\n",
      "1   2013-06-11 18:00:03+00:00  aapl   $440.30 (+1.41)\n",
      "2   2013-06-11 16:00:03+00:00  aapl   $440.90 (+2.01)\n",
      "3   2013-06-11 14:00:04+00:00  aapl  $435.40 (--3.49)\n",
      "4   2013-06-11 13:00:06+00:00  aapl    $438.89 (0.00)\n",
      "..                        ...   ...               ...\n",
      "486 2013-01-15 15:00:07+00:00  aapl          $489.682\n",
      "487 2013-01-15 14:00:02+00:00  aapl           $501.75\n",
      "488 2013-01-14 21:00:16+00:00  aapl           $500.77\n",
      "489 2013-01-14 20:15:25+00:00  aapl           $502.92\n",
      "490 2013-01-13 23:53:59+00:00  aapl           $520.30\n",
      "\n",
      "[491 rows x 3 columns]\n"
     ]
    }
   ],
   "source": [
    "import snscrape.modules.twitter as sntwitter\n",
    "import pandas as pd\n",
    "\n",
    "query = \"(from:AAPL) until:2023-04-17 since:2010-01-01\"\n",
    "tweets = []\n",
    "limit = 500\n",
    "\n",
    "# Iterate through Twitter search results using snscrape module\n",
    "for i, tweet in enumerate(sntwitter.TwitterSearchScraper(query).get_items()):\n",
    "    if i >= limit:\n",
    "        break\n",
    "    tweets.append({\n",
    "    'Date': tweet.date,\n",
    "    'User': tweet.user.username,\n",
    "    'Tweet': tweet.content\n",
    "    })\n",
    "\n",
    "# Convert list of dictionaries to pandas dataframe\n",
    "df = pd.DataFrame(tweets)\n",
    "print(df)\n",
    "\n",
    "# Save dataframe to csv\n",
    "df.to_csv('tweets1.csv', index=False)"
   ]
  },
  {
   "cell_type": "code",
   "execution_count": null,
   "id": "723ff7b0",
   "metadata": {},
   "outputs": [],
   "source": []
  },
  {
   "cell_type": "code",
   "execution_count": null,
   "id": "bf78362e",
   "metadata": {},
   "outputs": [],
   "source": []
  }
 ],
 "metadata": {
  "kernelspec": {
   "display_name": "Python 3 (ipykernel)",
   "language": "python",
   "name": "python3"
  },
  "language_info": {
   "codemirror_mode": {
    "name": "ipython",
    "version": 3
   },
   "file_extension": ".py",
   "mimetype": "text/x-python",
   "name": "python",
   "nbconvert_exporter": "python",
   "pygments_lexer": "ipython3",
   "version": "3.10.9"
  }
 },
 "nbformat": 4,
 "nbformat_minor": 5
}
